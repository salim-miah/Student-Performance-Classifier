{
 "cells": [
  {
   "cell_type": "code",
   "execution_count": 102,
   "metadata": {},
   "outputs": [],
   "source": [
    "import numpy as np\n",
    "import pandas as pd"
   ]
  },
  {
   "cell_type": "markdown",
   "metadata": {},
   "source": [
    "Handling Null Values\n"
   ]
  },
  {
   "cell_type": "code",
   "execution_count": 103,
   "metadata": {},
   "outputs": [
    {
     "data": {
      "text/html": [
       "<div>\n",
       "<style scoped>\n",
       "    .dataframe tbody tr th:only-of-type {\n",
       "        vertical-align: middle;\n",
       "    }\n",
       "\n",
       "    .dataframe tbody tr th {\n",
       "        vertical-align: top;\n",
       "    }\n",
       "\n",
       "    .dataframe thead th {\n",
       "        text-align: right;\n",
       "    }\n",
       "</style>\n",
       "<table border=\"1\" class=\"dataframe\">\n",
       "  <thead>\n",
       "    <tr style=\"text-align: right;\">\n",
       "      <th></th>\n",
       "      <th>Timestamp</th>\n",
       "      <th>Username</th>\n",
       "      <th>University</th>\n",
       "      <th>Degree</th>\n",
       "      <th>Avg_Attendance</th>\n",
       "      <th>Avg_Study_time_per_day</th>\n",
       "      <th>Extracurricular_Activities</th>\n",
       "      <th>Avg_sleep_time</th>\n",
       "      <th>Household_Size</th>\n",
       "      <th>Workout</th>\n",
       "      <th>Free_time_Activity</th>\n",
       "      <th>University_society_member</th>\n",
       "      <th>Parents_Highest_Qaulification</th>\n",
       "      <th>GPA</th>\n",
       "    </tr>\n",
       "  </thead>\n",
       "  <tbody>\n",
       "    <tr>\n",
       "      <th>0</th>\n",
       "      <td>2023/11/22 9:12:38 PM GMT+5</td>\n",
       "      <td>rayyanlaeeq@gmail.com</td>\n",
       "      <td>Fast</td>\n",
       "      <td>AI</td>\n",
       "      <td>90% - 100%</td>\n",
       "      <td>NaN</td>\n",
       "      <td>Sports</td>\n",
       "      <td>5-7 hours</td>\n",
       "      <td>5-6 members</td>\n",
       "      <td>Yes, regularly</td>\n",
       "      <td>Reading</td>\n",
       "      <td>No</td>\n",
       "      <td>Master's Degree</td>\n",
       "      <td>3.0 - 3.9</td>\n",
       "    </tr>\n",
       "    <tr>\n",
       "      <th>1</th>\n",
       "      <td>2023/11/23 8:25:45 PM GMT+5</td>\n",
       "      <td>NaN</td>\n",
       "      <td>Fast NU</td>\n",
       "      <td>BS AI</td>\n",
       "      <td>90% - 100%</td>\n",
       "      <td>NaN</td>\n",
       "      <td>Sports</td>\n",
       "      <td>5-7 hours</td>\n",
       "      <td>5-6 members</td>\n",
       "      <td>Yes, regularly</td>\n",
       "      <td>Watching TV/Movies</td>\n",
       "      <td>Yes</td>\n",
       "      <td>Master's Degree</td>\n",
       "      <td>3.0 - 3.9</td>\n",
       "    </tr>\n",
       "    <tr>\n",
       "      <th>2</th>\n",
       "      <td>2023/11/23 8:25:48 PM GMT+5</td>\n",
       "      <td>NaN</td>\n",
       "      <td>FAST-NU</td>\n",
       "      <td>BS-AI</td>\n",
       "      <td>90% - 100%</td>\n",
       "      <td>NaN</td>\n",
       "      <td>Gaming</td>\n",
       "      <td>5-7 hours</td>\n",
       "      <td>5-6 members</td>\n",
       "      <td>Yes, regularly</td>\n",
       "      <td>Watching TV/Movies</td>\n",
       "      <td>No</td>\n",
       "      <td>Master's Degree</td>\n",
       "      <td>3.0 - 3.9</td>\n",
       "    </tr>\n",
       "  </tbody>\n",
       "</table>\n",
       "</div>"
      ],
      "text/plain": [
       "                     Timestamp               Username University Degree  \\\n",
       "0  2023/11/22 9:12:38 PM GMT+5  rayyanlaeeq@gmail.com       Fast     AI   \n",
       "1  2023/11/23 8:25:45 PM GMT+5                    NaN    Fast NU  BS AI   \n",
       "2  2023/11/23 8:25:48 PM GMT+5                    NaN    FAST-NU  BS-AI   \n",
       "\n",
       "  Avg_Attendance Avg_Study_time_per_day Extracurricular_Activities  \\\n",
       "0     90% - 100%                    NaN                     Sports   \n",
       "1     90% - 100%                    NaN                     Sports   \n",
       "2     90% - 100%                    NaN                     Gaming   \n",
       "\n",
       "  Avg_sleep_time Household_Size         Workout  Free_time_Activity  \\\n",
       "0      5-7 hours    5-6 members  Yes, regularly             Reading   \n",
       "1      5-7 hours    5-6 members  Yes, regularly  Watching TV/Movies   \n",
       "2      5-7 hours    5-6 members  Yes, regularly  Watching TV/Movies   \n",
       "\n",
       "  University_society_member Parents_Highest_Qaulification        GPA  \n",
       "0                        No               Master's Degree  3.0 - 3.9  \n",
       "1                       Yes               Master's Degree  3.0 - 3.9  \n",
       "2                        No               Master's Degree  3.0 - 3.9  "
      ]
     },
     "execution_count": 103,
     "metadata": {},
     "output_type": "execute_result"
    }
   ],
   "source": [
    "student_table = pd.read_csv('studentlifedata.csv')\n",
    "student_table.head(3)"
   ]
  },
  {
   "cell_type": "code",
   "execution_count": 104,
   "metadata": {},
   "outputs": [
    {
     "name": "stdout",
     "output_type": "stream",
     "text": [
      "(209, 14)\n"
     ]
    }
   ],
   "source": [
    "print(student_table.shape)"
   ]
  },
  {
   "cell_type": "code",
   "execution_count": 105,
   "metadata": {},
   "outputs": [
    {
     "data": {
      "text/plain": [
       "Timestamp                          0\n",
       "Username                         208\n",
       "University                         0\n",
       "Degree                             0\n",
       "Avg_Attendance                     0\n",
       "Avg_Study_time_per_day             3\n",
       "Extracurricular_Activities         4\n",
       "Avg_sleep_time                     0\n",
       "Household_Size                     0\n",
       "Workout                            0\n",
       "Free_time_Activity                 0\n",
       "University_society_member          0\n",
       "Parents_Highest_Qaulification      0\n",
       "GPA                                0\n",
       "dtype: int64"
      ]
     },
     "execution_count": 105,
     "metadata": {},
     "output_type": "execute_result"
    }
   ],
   "source": [
    "student_table.isnull().sum()"
   ]
  },
  {
   "cell_type": "markdown",
   "metadata": {},
   "source": [
    "Dropping Unnecessary columns\n"
   ]
  },
  {
   "cell_type": "code",
   "execution_count": 106,
   "metadata": {},
   "outputs": [
    {
     "data": {
      "text/plain": [
       "(209, 11)"
      ]
     },
     "execution_count": 106,
     "metadata": {},
     "output_type": "execute_result"
    }
   ],
   "source": [
    "student_table = student_table.drop(['Timestamp','Username','University'],axis=1)\n",
    "student_table.shape"
   ]
  },
  {
   "cell_type": "markdown",
   "metadata": {},
   "source": [
    "Dropping Rows containing null values in Avg_Study_time_per_day column\n"
   ]
  },
  {
   "cell_type": "code",
   "execution_count": 107,
   "metadata": {},
   "outputs": [
    {
     "name": "stdout",
     "output_type": "stream",
     "text": [
      "Shape of dataframe before dropping: (209, 11)\n",
      "Shape after dropping: (206, 11)\n"
     ]
    }
   ],
   "source": [
    "print(\"Shape of dataframe before dropping:\", student_table.shape)\n",
    "student_table = student_table.dropna(axis = 0, subset = ['Avg_Study_time_per_day'])\n",
    "print(\"Shape after dropping:\", student_table.shape)"
   ]
  },
  {
   "cell_type": "code",
   "execution_count": 108,
   "metadata": {},
   "outputs": [
    {
     "data": {
      "text/plain": [
       "Degree                           0\n",
       "Avg_Attendance                   0\n",
       "Avg_Study_time_per_day           0\n",
       "Extracurricular_Activities       4\n",
       "Avg_sleep_time                   0\n",
       "Household_Size                   0\n",
       "Workout                          0\n",
       "Free_time_Activity               0\n",
       "University_society_member        0\n",
       "Parents_Highest_Qaulification    0\n",
       "GPA                              0\n",
       "dtype: int64"
      ]
     },
     "execution_count": 108,
     "metadata": {},
     "output_type": "execute_result"
    }
   ],
   "source": [
    "student_table.isnull().sum()"
   ]
  },
  {
   "cell_type": "code",
   "execution_count": 109,
   "metadata": {},
   "outputs": [
    {
     "name": "stdout",
     "output_type": "stream",
     "text": [
      "<class 'pandas.core.frame.DataFrame'>\n",
      "Index: 206 entries, 3 to 208\n",
      "Data columns (total 11 columns):\n",
      " #   Column                         Non-Null Count  Dtype \n",
      "---  ------                         --------------  ----- \n",
      " 0   Degree                         206 non-null    object\n",
      " 1   Avg_Attendance                 206 non-null    object\n",
      " 2   Avg_Study_time_per_day         206 non-null    object\n",
      " 3   Extracurricular_Activities     202 non-null    object\n",
      " 4   Avg_sleep_time                 206 non-null    object\n",
      " 5   Household_Size                 206 non-null    object\n",
      " 6   Workout                        206 non-null    object\n",
      " 7   Free_time_Activity             206 non-null    object\n",
      " 8   University_society_member      206 non-null    object\n",
      " 9   Parents_Highest_Qaulification  206 non-null    object\n",
      " 10  GPA                            206 non-null    object\n",
      "dtypes: object(11)\n",
      "memory usage: 19.3+ KB\n"
     ]
    }
   ],
   "source": [
    "student_table.info()"
   ]
  },
  {
   "cell_type": "markdown",
   "metadata": {},
   "source": [
    "Standardizing the values of column Degree, since there are numerous variations of similar degree\n"
   ]
  },
  {
   "cell_type": "code",
   "execution_count": 110,
   "metadata": {},
   "outputs": [
    {
     "name": "stdout",
     "output_type": "stream",
     "text": [
      "['BSCS' 'ARTIFICIAL INTELLIGENCE ' 'ARTIFICIAL INTELLIGENCE' 'BS-AI' 'AI'\n",
      " 'BS AI' 'BS CYBER SECURITY ' 'BACHELOR OF COMPUTER SCIENCE'\n",
      " 'BACHELORS IN COMPUTER SCIENCE ' 'BS' 'BBA' 'AI ' 'BS(CS' 'BS (SE)'\n",
      " 'BACHELORS OF SCIENCE IN BIOLOGY' 'BS INFORMATION TECHNOLOGY ' 'BSIT'\n",
      " 'BS(IT)' 'NONE ' 'BS-CS' 'COMPUTER SCIENCE '\n",
      " 'BACHELORS IN SOFTWARE ENGINEERING ' \"BACHELOR'S \"\n",
      " 'BACHELOR OF SCIENCE INFORMATION TECHNOLOGY' 'BBA ' 'MEDIA SCIENCE '\n",
      " 'BSC IT' \"BACHELOR'S IN COMPUTER SCIENCE \" 'BE AVIONICS'\n",
      " 'BACHELORS IN BUSINESS ADMINISTRATION' 'BS ACCOUNTS AND FINANCE'\n",
      " 'COMPUTATIONAL FINANCE ' 'BS(SE)' 'DOCTOR OF PHARMACY '\n",
      " 'COMPUTER SCIENCE AND ARTIFICIAL INTELLIGENCE' 'PHYSICS' 'BCIT'\n",
      " 'BS PHYSICS ' 'BS SOFTWARE ENGINEERING' 'BS CS' 'BSE' 'BCE'\n",
      " 'BSC IN PHYSICS' 'CS' 'BS(CS)' \"BACHELOR'S DEGREE\"\n",
      " 'COMPUTER SCIENCE (BACHELORS)' \"BACHELOR'S IN COMPUTER SCIENCE\" 'MASTER '\n",
      " 'COMPUTER SCIENCE' 'BS ARTIFICIAL INTELLIGENCE ' ' BSIT' 'BS PHYSICS'\n",
      " 'BS(AI)' 'BSAI'\n",
      " 'BACHELOR OF ENGINEERING ( ELECTRICAL ENGINEERING MAJOR POWER)' 'BSBT'\n",
      " \"BACHELOR'S IN BIOTECHNOLOGY \" 'BS-BIOTECHNOLOGY' 'BS IN BIOTECHNOLOGY '\n",
      " 'BIOTECHNOLOGY ' 'BS BIOTECHNOLOGY ' 'BS (HONS) IN BIOTECHNOLOGY '\n",
      " 'BS(EE) COMPUTER ENGINEERING ' 'BSCS '\n",
      " 'BACHELORS IN ARTIFICIAL INTELLIGENCE' 'BBA-H'\n",
      " 'BACHELORS IN COMPUTER SCIENCE' 'BACHELOR IN COMPUTER SCIENCE ' 'BS SE'\n",
      " 'BACHELORS' 'MASTERS' 'BACHELOR OF SCIENCE IN SOFTWARE ENGINEERING'\n",
      " 'TEXTILE ENGINEERING ' 'BACHELORS IN AI' 'BS ELECTRICAL ENGINEERING '\n",
      " 'BS-BIOTECHNOLOGY ' 'BS CYBERSECURITY ' 'BS(CYS)' 'BA'\n",
      " \"BACHELOR'S DEGREE (COMPUTER SCIENCE)\" 'BS IT' 'BBA-MARKETING'\n",
      " 'BS (MARITIME)' 'CIVIL ENGINEERING ' 'ELECTRICAL ENGINEERING ' 'EE' 'CE'\n",
      " 'ELECTICAL ENGINEERING ' 'CIVIL ENGINEERING' 'ELECTRICAL ENGINEERING'\n",
      " 'C.E' 'E.E' 'CYBER SECURITY ' 'BS-INDUSTRIAL MANAGEMENT '\n",
      " 'SOFTWARE ENGINEERING ' 'SOFTWARE ENGINEERING' 'BACHELOR IN AI '\n",
      " \"BACHELOR'S DEGREE IN COMPUTER SCIENCE \" 'BSC.HONS.' 'BSC( HONS)'\n",
      " 'BSC(HONS)' 'DOCTOR OF PHYSICAL THERAPY ' 'B.SC.(HONS)' 'GEOGRAPHY '\n",
      " 'B.SC.HONS' 'BS GEOGRAPHY UNIVERSITY OF KARACHI ' 'MSC' 'BACHELOR '\n",
      " 'BSC.(HONS)' 'BSC ' 'MSC IN GEOGRAPHY.' 'BS ARTIFICIAL INTELLIGENCE'\n",
      " 'BS-COMPUTER SCIENCE' 'MSC GEOGRAPHY ']\n"
     ]
    }
   ],
   "source": [
    "#Finding Unique Degrees\n",
    "student_table['Degree'] = student_table['Degree'].str.upper()\n",
    "degrees = student_table['Degree'].unique()\n",
    "print(degrees)"
   ]
  },
  {
   "cell_type": "code",
   "execution_count": 111,
   "metadata": {},
   "outputs": [
    {
     "name": "stdout",
     "output_type": "stream",
     "text": [
      "['BS-CS' 'BS-AI' 'BS-CYS' 'Others' 'BBA' 'BS-SE' 'BE-CE' 'BS-IT'\n",
      " 'Doctorate' 'BS-EE' 'BS-BT' 'BS-Industrial' 'BS-GEO']\n"
     ]
    }
   ],
   "source": [
    "#Standardization\n",
    "BS_AI = ['AI', 'ARTIFICIAL']\n",
    "BS_CS = ['CS', 'COMPUTER SCIENCE']\n",
    "BS_Cyber_Security  = ['CYS', 'CYBER']\n",
    "BS_SE  = ['SE', 'SOFTWARE']\n",
    "BS_IT = ['IT', 'INFORMATION']\n",
    "BS_BIT = ['BT', 'BIOTECHNOLOGY']\n",
    "BBA = ['BBA', 'BUSINESS','MARKETING']\n",
    "BS_EE = ['EE', 'ELECTRICAL' , 'E.E']\n",
    "BE_CE = ['C.E' , 'CE', 'CIVIL']\n",
    "BS_GEO = ['GEOGRAPHY']\n",
    "BS_BIO = ['BIOLOGY']\n",
    "BS_PHY = ['PHYSICS']\n",
    "BE_Avionics = ['AVIONICS']\n",
    "BS_Finance = ['FINANCE']\n",
    "BS_Accounting = ['Accounting']\n",
    "BS_TE = ['TEXTILE']\n",
    "BS_MARITIME = ['MARITIME']\n",
    "BS_Industrial = ['INDUSTRIAL']\n",
    "Doctorate = ['Doctor']\n",
    "def standardize_degs(name):\n",
    "    if any(keyword.lower() in name.lower() for keyword in BS_AI):\n",
    "        return 'BS-AI'\n",
    "    elif any(keyword.lower() in name.lower() for keyword in BS_CS):\n",
    "        return 'BS-CS'\n",
    "    elif any(keyword.lower() in name.lower() for keyword in BS_Cyber_Security):\n",
    "        return 'BS-CYS'\n",
    "    elif any(keyword.lower() in name.lower() for keyword in BS_SE):\n",
    "        return 'BS-SE'\n",
    "    elif any(keyword.lower() in name.lower() for keyword in BS_IT):\n",
    "        return 'BS-IT'\n",
    "    elif any(keyword.lower() in name.lower() for keyword in BS_BIT):\n",
    "        return 'BS-BT'\n",
    "    elif any(keyword.lower() in name.lower() for keyword in BBA):\n",
    "        return 'BBA'\n",
    "    elif any(keyword.lower() in name.lower() for keyword in BS_EE):\n",
    "        return 'BS-EE'\n",
    "    elif any(keyword.lower() in name.lower() for keyword in BE_CE):\n",
    "        return 'BE-CE'\n",
    "    elif any(keyword.lower() in name.lower() for keyword in BS_GEO):\n",
    "        return 'BS-GEO'\n",
    "    elif any(keyword.lower() in name.lower() for keyword in BS_BIO):\n",
    "        return 'BS-BIO'\n",
    "    elif any(keyword.lower() in name.lower() for keyword in BS_PHY):\n",
    "        return 'BS-PHY'\n",
    "    elif any(keyword.lower() in name.lower() for keyword in BE_Avionics):\n",
    "        return 'BE-Avionics'\n",
    "    elif any(keyword.lower() in name.lower() for keyword in BS_Finance):\n",
    "        return 'BS-Finance'\n",
    "    elif any(keyword.lower() in name.lower() for keyword in BS_Accounting):\n",
    "        return 'BS-Accounting'\n",
    "    elif any(keyword.lower() in name.lower() for keyword in BS_TE):\n",
    "        return 'BS-TE'\n",
    "    elif any(keyword.lower() in name.lower() for keyword in BS_MARITIME):\n",
    "        return 'BS-Maritime'\n",
    "    elif any(keyword.lower() in name.lower() for keyword in BS_Industrial):\n",
    "        return 'BS-Industrial'\n",
    "    elif any(keyword.lower() in name.lower() for keyword in Doctorate):\n",
    "        return 'Doctorate'\n",
    "    else:\n",
    "        return 'Others'\n",
    "student_table['Degree'] = student_table['Degree'].apply(standardize_degs)\n",
    "print(student_table['Degree'].unique())"
   ]
  },
  {
   "cell_type": "code",
   "execution_count": 112,
   "metadata": {},
   "outputs": [
    {
     "data": {
      "text/plain": [
       "array(['BS-CS', 'BS-AI', 'BS-CYS', 'Others', 'BBA', 'BS-SE', 'BE-CE',\n",
       "       'BS-IT', 'Doctorate', 'BS-EE', 'BS-BT', 'BS-Industrial', 'BS-GEO'],\n",
       "      dtype=object)"
      ]
     },
     "execution_count": 112,
     "metadata": {},
     "output_type": "execute_result"
    }
   ],
   "source": [
    "student_table['Degree'].unique()"
   ]
  },
  {
   "cell_type": "code",
   "execution_count": 113,
   "metadata": {},
   "outputs": [
    {
     "data": {
      "text/plain": [
       "17"
      ]
     },
     "execution_count": 113,
     "metadata": {},
     "output_type": "execute_result"
    }
   ],
   "source": [
    "len(student_table.loc[student_table['Degree']=='Others'])"
   ]
  },
  {
   "cell_type": "markdown",
   "metadata": {},
   "source": [
    "One-Hot Encoding Degree column\n"
   ]
  },
  {
   "cell_type": "code",
   "execution_count": 114,
   "metadata": {},
   "outputs": [
    {
     "data": {
      "text/html": [
       "<div>\n",
       "<style scoped>\n",
       "    .dataframe tbody tr th:only-of-type {\n",
       "        vertical-align: middle;\n",
       "    }\n",
       "\n",
       "    .dataframe tbody tr th {\n",
       "        vertical-align: top;\n",
       "    }\n",
       "\n",
       "    .dataframe thead th {\n",
       "        text-align: right;\n",
       "    }\n",
       "</style>\n",
       "<table border=\"1\" class=\"dataframe\">\n",
       "  <thead>\n",
       "    <tr style=\"text-align: right;\">\n",
       "      <th></th>\n",
       "      <th>BBA</th>\n",
       "      <th>BE-CE</th>\n",
       "      <th>BS-AI</th>\n",
       "      <th>BS-BT</th>\n",
       "      <th>BS-CS</th>\n",
       "      <th>BS-CYS</th>\n",
       "      <th>BS-EE</th>\n",
       "      <th>BS-GEO</th>\n",
       "      <th>BS-IT</th>\n",
       "      <th>BS-Industrial</th>\n",
       "      <th>BS-SE</th>\n",
       "      <th>Doctorate</th>\n",
       "      <th>Others</th>\n",
       "    </tr>\n",
       "  </thead>\n",
       "  <tbody>\n",
       "    <tr>\n",
       "      <th>3</th>\n",
       "      <td>False</td>\n",
       "      <td>False</td>\n",
       "      <td>False</td>\n",
       "      <td>False</td>\n",
       "      <td>True</td>\n",
       "      <td>False</td>\n",
       "      <td>False</td>\n",
       "      <td>False</td>\n",
       "      <td>False</td>\n",
       "      <td>False</td>\n",
       "      <td>False</td>\n",
       "      <td>False</td>\n",
       "      <td>False</td>\n",
       "    </tr>\n",
       "    <tr>\n",
       "      <th>4</th>\n",
       "      <td>False</td>\n",
       "      <td>False</td>\n",
       "      <td>True</td>\n",
       "      <td>False</td>\n",
       "      <td>False</td>\n",
       "      <td>False</td>\n",
       "      <td>False</td>\n",
       "      <td>False</td>\n",
       "      <td>False</td>\n",
       "      <td>False</td>\n",
       "      <td>False</td>\n",
       "      <td>False</td>\n",
       "      <td>False</td>\n",
       "    </tr>\n",
       "    <tr>\n",
       "      <th>5</th>\n",
       "      <td>False</td>\n",
       "      <td>False</td>\n",
       "      <td>True</td>\n",
       "      <td>False</td>\n",
       "      <td>False</td>\n",
       "      <td>False</td>\n",
       "      <td>False</td>\n",
       "      <td>False</td>\n",
       "      <td>False</td>\n",
       "      <td>False</td>\n",
       "      <td>False</td>\n",
       "      <td>False</td>\n",
       "      <td>False</td>\n",
       "    </tr>\n",
       "    <tr>\n",
       "      <th>6</th>\n",
       "      <td>False</td>\n",
       "      <td>False</td>\n",
       "      <td>True</td>\n",
       "      <td>False</td>\n",
       "      <td>False</td>\n",
       "      <td>False</td>\n",
       "      <td>False</td>\n",
       "      <td>False</td>\n",
       "      <td>False</td>\n",
       "      <td>False</td>\n",
       "      <td>False</td>\n",
       "      <td>False</td>\n",
       "      <td>False</td>\n",
       "    </tr>\n",
       "    <tr>\n",
       "      <th>7</th>\n",
       "      <td>False</td>\n",
       "      <td>False</td>\n",
       "      <td>True</td>\n",
       "      <td>False</td>\n",
       "      <td>False</td>\n",
       "      <td>False</td>\n",
       "      <td>False</td>\n",
       "      <td>False</td>\n",
       "      <td>False</td>\n",
       "      <td>False</td>\n",
       "      <td>False</td>\n",
       "      <td>False</td>\n",
       "      <td>False</td>\n",
       "    </tr>\n",
       "  </tbody>\n",
       "</table>\n",
       "</div>"
      ],
      "text/plain": [
       "     BBA  BE-CE  BS-AI  BS-BT  BS-CS  BS-CYS  BS-EE  BS-GEO  BS-IT  \\\n",
       "3  False  False  False  False   True   False  False   False  False   \n",
       "4  False  False   True  False  False   False  False   False  False   \n",
       "5  False  False   True  False  False   False  False   False  False   \n",
       "6  False  False   True  False  False   False  False   False  False   \n",
       "7  False  False   True  False  False   False  False   False  False   \n",
       "\n",
       "   BS-Industrial  BS-SE  Doctorate  Others  \n",
       "3          False  False      False   False  \n",
       "4          False  False      False   False  \n",
       "5          False  False      False   False  \n",
       "6          False  False      False   False  \n",
       "7          False  False      False   False  "
      ]
     },
     "execution_count": 114,
     "metadata": {},
     "output_type": "execute_result"
    }
   ],
   "source": [
    "degree_enc = pd.get_dummies(student_table['Degree'])\n",
    "degree_enc.head()"
   ]
  },
  {
   "cell_type": "code",
   "execution_count": 115,
   "metadata": {},
   "outputs": [
    {
     "data": {
      "text/html": [
       "<div>\n",
       "<style scoped>\n",
       "    .dataframe tbody tr th:only-of-type {\n",
       "        vertical-align: middle;\n",
       "    }\n",
       "\n",
       "    .dataframe tbody tr th {\n",
       "        vertical-align: top;\n",
       "    }\n",
       "\n",
       "    .dataframe thead th {\n",
       "        text-align: right;\n",
       "    }\n",
       "</style>\n",
       "<table border=\"1\" class=\"dataframe\">\n",
       "  <thead>\n",
       "    <tr style=\"text-align: right;\">\n",
       "      <th></th>\n",
       "      <th>Degree</th>\n",
       "      <th>Avg_Attendance</th>\n",
       "      <th>Avg_Study_time_per_day</th>\n",
       "      <th>Extracurricular_Activities</th>\n",
       "      <th>Avg_sleep_time</th>\n",
       "      <th>Household_Size</th>\n",
       "      <th>Workout</th>\n",
       "      <th>Free_time_Activity</th>\n",
       "      <th>University_society_member</th>\n",
       "      <th>Parents_Highest_Qaulification</th>\n",
       "      <th>GPA</th>\n",
       "    </tr>\n",
       "  </thead>\n",
       "  <tbody>\n",
       "    <tr>\n",
       "      <th>3</th>\n",
       "      <td>BS-CS</td>\n",
       "      <td>80%-90%</td>\n",
       "      <td>5-6 hours</td>\n",
       "      <td>Academic Clubs</td>\n",
       "      <td>5-7 hours</td>\n",
       "      <td>3-4 members</td>\n",
       "      <td>Occasionally</td>\n",
       "      <td>Watching TV/Movies</td>\n",
       "      <td>Yes</td>\n",
       "      <td>Bachelor's Degree</td>\n",
       "      <td>2.0 - 2.9</td>\n",
       "    </tr>\n",
       "    <tr>\n",
       "      <th>4</th>\n",
       "      <td>BS-AI</td>\n",
       "      <td>80%-90%</td>\n",
       "      <td>1-2 hours</td>\n",
       "      <td>Sports</td>\n",
       "      <td>5-7 hours</td>\n",
       "      <td>5-6 members</td>\n",
       "      <td>No, I don't</td>\n",
       "      <td>Watching TV/Movies</td>\n",
       "      <td>No</td>\n",
       "      <td>Master's Degree</td>\n",
       "      <td>3.0 - 3.9</td>\n",
       "    </tr>\n",
       "    <tr>\n",
       "      <th>5</th>\n",
       "      <td>BS-AI</td>\n",
       "      <td>80%-90%</td>\n",
       "      <td>1-2 hours</td>\n",
       "      <td>Sports;Volunteer Work</td>\n",
       "      <td>5-7 hours</td>\n",
       "      <td>3-4 members</td>\n",
       "      <td>Occasionally</td>\n",
       "      <td>Socializing with Friends</td>\n",
       "      <td>No</td>\n",
       "      <td>Master's Degree</td>\n",
       "      <td>2.0 - 2.9</td>\n",
       "    </tr>\n",
       "    <tr>\n",
       "      <th>6</th>\n",
       "      <td>BS-AI</td>\n",
       "      <td>90% - 100%</td>\n",
       "      <td>1-2 hours</td>\n",
       "      <td>I don’t 🗿</td>\n",
       "      <td>5-7 hours</td>\n",
       "      <td>5-6 members</td>\n",
       "      <td>Occasionally</td>\n",
       "      <td>Playing Games</td>\n",
       "      <td>No</td>\n",
       "      <td>Master's Degree</td>\n",
       "      <td>3.0 - 3.9</td>\n",
       "    </tr>\n",
       "    <tr>\n",
       "      <th>7</th>\n",
       "      <td>BS-AI</td>\n",
       "      <td>80%-90%</td>\n",
       "      <td>Less than 1 hour</td>\n",
       "      <td>Sports</td>\n",
       "      <td>5-7 hours</td>\n",
       "      <td>5-6 members</td>\n",
       "      <td>Occasionally</td>\n",
       "      <td>Playing Games</td>\n",
       "      <td>Yes</td>\n",
       "      <td>Bachelor's Degree</td>\n",
       "      <td>2.0 - 2.9</td>\n",
       "    </tr>\n",
       "    <tr>\n",
       "      <th>...</th>\n",
       "      <td>...</td>\n",
       "      <td>...</td>\n",
       "      <td>...</td>\n",
       "      <td>...</td>\n",
       "      <td>...</td>\n",
       "      <td>...</td>\n",
       "      <td>...</td>\n",
       "      <td>...</td>\n",
       "      <td>...</td>\n",
       "      <td>...</td>\n",
       "      <td>...</td>\n",
       "    </tr>\n",
       "    <tr>\n",
       "      <th>204</th>\n",
       "      <td>BS-GEO</td>\n",
       "      <td>90% - 100%</td>\n",
       "      <td>1-2 hours</td>\n",
       "      <td>Arts and Culture;Volunteer Work</td>\n",
       "      <td>7-9 hours</td>\n",
       "      <td>7 or more members</td>\n",
       "      <td>No, I don't</td>\n",
       "      <td>Reading</td>\n",
       "      <td>No</td>\n",
       "      <td>High School Diploma or Below</td>\n",
       "      <td>3.0 - 3.9</td>\n",
       "    </tr>\n",
       "    <tr>\n",
       "      <th>205</th>\n",
       "      <td>BS-AI</td>\n",
       "      <td>80%-90%</td>\n",
       "      <td>3-4 hours</td>\n",
       "      <td>Sports</td>\n",
       "      <td>5-7 hours</td>\n",
       "      <td>5-6 members</td>\n",
       "      <td>No, I don't</td>\n",
       "      <td>Socializing with Friends</td>\n",
       "      <td>No</td>\n",
       "      <td>Master's Degree</td>\n",
       "      <td>2.0 - 2.9</td>\n",
       "    </tr>\n",
       "    <tr>\n",
       "      <th>206</th>\n",
       "      <td>BS-AI</td>\n",
       "      <td>80%-90%</td>\n",
       "      <td>1-2 hours</td>\n",
       "      <td>Academic Clubs</td>\n",
       "      <td>Less than 5 hours</td>\n",
       "      <td>5-6 members</td>\n",
       "      <td>No, I don't</td>\n",
       "      <td>Watching TV/Movies</td>\n",
       "      <td>Yes</td>\n",
       "      <td>High School Diploma or Below</td>\n",
       "      <td>3.0 - 3.9</td>\n",
       "    </tr>\n",
       "    <tr>\n",
       "      <th>207</th>\n",
       "      <td>BS-CS</td>\n",
       "      <td>90% - 100%</td>\n",
       "      <td>Less than 1 hour</td>\n",
       "      <td>Sports</td>\n",
       "      <td>5-7 hours</td>\n",
       "      <td>3-4 members</td>\n",
       "      <td>Yes, regularly</td>\n",
       "      <td>Socializing with Friends</td>\n",
       "      <td>No</td>\n",
       "      <td>Master's Degree</td>\n",
       "      <td>3.0 - 3.9</td>\n",
       "    </tr>\n",
       "    <tr>\n",
       "      <th>208</th>\n",
       "      <td>BS-GEO</td>\n",
       "      <td>90% - 100%</td>\n",
       "      <td>5-6 hours</td>\n",
       "      <td>Arts and Culture;Volunteer Work</td>\n",
       "      <td>5-7 hours</td>\n",
       "      <td>5-6 members</td>\n",
       "      <td>Yes, regularly</td>\n",
       "      <td>Socializing with Friends</td>\n",
       "      <td>No</td>\n",
       "      <td>High School Diploma or Below</td>\n",
       "      <td>3.0 - 3.9</td>\n",
       "    </tr>\n",
       "  </tbody>\n",
       "</table>\n",
       "<p>206 rows × 11 columns</p>\n",
       "</div>"
      ],
      "text/plain": [
       "     Degree Avg_Attendance Avg_Study_time_per_day  \\\n",
       "3     BS-CS        80%-90%              5-6 hours   \n",
       "4     BS-AI        80%-90%              1-2 hours   \n",
       "5     BS-AI        80%-90%              1-2 hours   \n",
       "6     BS-AI     90% - 100%              1-2 hours   \n",
       "7     BS-AI        80%-90%       Less than 1 hour   \n",
       "..      ...            ...                    ...   \n",
       "204  BS-GEO     90% - 100%              1-2 hours   \n",
       "205   BS-AI        80%-90%              3-4 hours   \n",
       "206   BS-AI        80%-90%              1-2 hours   \n",
       "207   BS-CS     90% - 100%       Less than 1 hour   \n",
       "208  BS-GEO     90% - 100%              5-6 hours   \n",
       "\n",
       "          Extracurricular_Activities     Avg_sleep_time     Household_Size  \\\n",
       "3                     Academic Clubs          5-7 hours        3-4 members   \n",
       "4                             Sports          5-7 hours        5-6 members   \n",
       "5              Sports;Volunteer Work          5-7 hours        3-4 members   \n",
       "6                          I don’t 🗿          5-7 hours        5-6 members   \n",
       "7                             Sports          5-7 hours        5-6 members   \n",
       "..                               ...                ...                ...   \n",
       "204  Arts and Culture;Volunteer Work          7-9 hours  7 or more members   \n",
       "205                           Sports          5-7 hours        5-6 members   \n",
       "206                   Academic Clubs  Less than 5 hours        5-6 members   \n",
       "207                           Sports          5-7 hours        3-4 members   \n",
       "208  Arts and Culture;Volunteer Work          5-7 hours        5-6 members   \n",
       "\n",
       "            Workout        Free_time_Activity University_society_member  \\\n",
       "3      Occasionally        Watching TV/Movies                       Yes   \n",
       "4       No, I don't        Watching TV/Movies                        No   \n",
       "5      Occasionally  Socializing with Friends                        No   \n",
       "6      Occasionally             Playing Games                        No   \n",
       "7      Occasionally             Playing Games                       Yes   \n",
       "..              ...                       ...                       ...   \n",
       "204     No, I don't                   Reading                        No   \n",
       "205     No, I don't  Socializing with Friends                        No   \n",
       "206     No, I don't        Watching TV/Movies                       Yes   \n",
       "207  Yes, regularly  Socializing with Friends                        No   \n",
       "208  Yes, regularly  Socializing with Friends                        No   \n",
       "\n",
       "    Parents_Highest_Qaulification        GPA  \n",
       "3               Bachelor's Degree  2.0 - 2.9  \n",
       "4                 Master's Degree  3.0 - 3.9  \n",
       "5                 Master's Degree  2.0 - 2.9  \n",
       "6                 Master's Degree  3.0 - 3.9  \n",
       "7               Bachelor's Degree  2.0 - 2.9  \n",
       "..                            ...        ...  \n",
       "204  High School Diploma or Below  3.0 - 3.9  \n",
       "205               Master's Degree  2.0 - 2.9  \n",
       "206  High School Diploma or Below  3.0 - 3.9  \n",
       "207               Master's Degree  3.0 - 3.9  \n",
       "208  High School Diploma or Below  3.0 - 3.9  \n",
       "\n",
       "[206 rows x 11 columns]"
      ]
     },
     "execution_count": 115,
     "metadata": {},
     "output_type": "execute_result"
    }
   ],
   "source": [
    "# student_table = pd.concat([student_table, degree_enc], axis=1)\n",
    "student_table"
   ]
  },
  {
   "cell_type": "code",
   "execution_count": 116,
   "metadata": {},
   "outputs": [
    {
     "data": {
      "text/plain": [
       "array(['80%-90%', '90% - 100%', '70%-80%', 'Below 60%', '60%-70%'],\n",
       "      dtype=object)"
      ]
     },
     "execution_count": 116,
     "metadata": {},
     "output_type": "execute_result"
    }
   ],
   "source": [
    "student_table['Avg_Attendance'].unique()"
   ]
  },
  {
   "cell_type": "markdown",
   "metadata": {},
   "source": [
    "Label Encoding Avg_Attendance column"
   ]
  },
  {
   "cell_type": "code",
   "execution_count": 117,
   "metadata": {},
   "outputs": [],
   "source": [
    "from sklearn.preprocessing import LabelEncoder"
   ]
  },
  {
   "cell_type": "code",
   "execution_count": 123,
   "metadata": {},
   "outputs": [],
   "source": [
    "#Below 60% is replaced by 0%-60% to avoid problems with LabelEncoder\n",
    "student_table.loc[student_table['Avg_Attendance'] == 'Below 60%', 'Avg_Attendance'] = '0%-60%'"
   ]
  },
  {
   "cell_type": "code",
   "execution_count": 124,
   "metadata": {},
   "outputs": [
    {
     "name": "stdout",
     "output_type": "stream",
     "text": [
      "  Avg_Attendance  Avg_Attendance_enc\n",
      "3        80%-90%                   3\n",
      "4        80%-90%                   3\n",
      "5        80%-90%                   3\n",
      "6     90% - 100%                   4\n",
      "7        80%-90%                   3\n"
     ]
    }
   ],
   "source": [
    "# Set up the LabelEncoder object\n",
    "enc = LabelEncoder()\n",
    "\n",
    "# Apply the encoding to the \"Accessible\" column\n",
    "student_table['Avg_Attendance_enc'] = enc.fit_transform(student_table['Avg_Attendance'])\n",
    "\n",
    "# Compare the two columns\n",
    "print(student_table[['Avg_Attendance', 'Avg_Attendance_enc']].head())"
   ]
  },
  {
   "cell_type": "code",
   "execution_count": 125,
   "metadata": {},
   "outputs": [
    {
     "data": {
      "text/plain": [
       "array([3, 4, 2, 0, 1])"
      ]
     },
     "execution_count": 125,
     "metadata": {},
     "output_type": "execute_result"
    }
   ],
   "source": [
    "student_table['Avg_Attendance_enc'].unique()"
   ]
  },
  {
   "cell_type": "code",
   "execution_count": 127,
   "metadata": {},
   "outputs": [
    {
     "data": {
      "text/html": [
       "<div>\n",
       "<style scoped>\n",
       "    .dataframe tbody tr th:only-of-type {\n",
       "        vertical-align: middle;\n",
       "    }\n",
       "\n",
       "    .dataframe tbody tr th {\n",
       "        vertical-align: top;\n",
       "    }\n",
       "\n",
       "    .dataframe thead th {\n",
       "        text-align: right;\n",
       "    }\n",
       "</style>\n",
       "<table border=\"1\" class=\"dataframe\">\n",
       "  <thead>\n",
       "    <tr style=\"text-align: right;\">\n",
       "      <th></th>\n",
       "      <th>Degree</th>\n",
       "      <th>Avg_Attendance</th>\n",
       "      <th>Avg_Study_time_per_day</th>\n",
       "      <th>Extracurricular_Activities</th>\n",
       "      <th>Avg_sleep_time</th>\n",
       "      <th>Household_Size</th>\n",
       "      <th>Workout</th>\n",
       "      <th>Free_time_Activity</th>\n",
       "      <th>University_society_member</th>\n",
       "      <th>Parents_Highest_Qaulification</th>\n",
       "      <th>GPA</th>\n",
       "      <th>Avg_Attendance_enc</th>\n",
       "    </tr>\n",
       "  </thead>\n",
       "  <tbody>\n",
       "    <tr>\n",
       "      <th>32</th>\n",
       "      <td>Others</td>\n",
       "      <td>0%-60%</td>\n",
       "      <td>3-4 hours</td>\n",
       "      <td>Sports</td>\n",
       "      <td>7-9 hours</td>\n",
       "      <td>7 or more members</td>\n",
       "      <td>No, I don't</td>\n",
       "      <td>Watching TV/Movies</td>\n",
       "      <td>No</td>\n",
       "      <td>Master's Degree</td>\n",
       "      <td>4</td>\n",
       "      <td>0</td>\n",
       "    </tr>\n",
       "    <tr>\n",
       "      <th>81</th>\n",
       "      <td>BS-CS</td>\n",
       "      <td>0%-60%</td>\n",
       "      <td>Less than 1 hour</td>\n",
       "      <td>Sports</td>\n",
       "      <td>Less than 5 hours</td>\n",
       "      <td>1-2 members</td>\n",
       "      <td>No, I don't</td>\n",
       "      <td>noting</td>\n",
       "      <td>No</td>\n",
       "      <td>High School Diploma or Below</td>\n",
       "      <td>0.0 - 1.9</td>\n",
       "      <td>0</td>\n",
       "    </tr>\n",
       "    <tr>\n",
       "      <th>142</th>\n",
       "      <td>BS-IT</td>\n",
       "      <td>0%-60%</td>\n",
       "      <td>Less than 1 hour</td>\n",
       "      <td>Sports</td>\n",
       "      <td>More than 9 hours</td>\n",
       "      <td>1-2 members</td>\n",
       "      <td>No, I don't</td>\n",
       "      <td>Socializing with Friends</td>\n",
       "      <td>No</td>\n",
       "      <td>Doctorate or Professional Degree</td>\n",
       "      <td>0.0 - 1.9</td>\n",
       "      <td>0</td>\n",
       "    </tr>\n",
       "    <tr>\n",
       "      <th>167</th>\n",
       "      <td>BS-EE</td>\n",
       "      <td>0%-60%</td>\n",
       "      <td>5-6 hours</td>\n",
       "      <td>Sports;Arts and Culture;Volunteer Work</td>\n",
       "      <td>5-7 hours</td>\n",
       "      <td>3-4 members</td>\n",
       "      <td>No, I don't</td>\n",
       "      <td>Playing Games</td>\n",
       "      <td>Yes</td>\n",
       "      <td>Master's Degree</td>\n",
       "      <td>3.0 - 3.9</td>\n",
       "      <td>0</td>\n",
       "    </tr>\n",
       "  </tbody>\n",
       "</table>\n",
       "</div>"
      ],
      "text/plain": [
       "     Degree Avg_Attendance Avg_Study_time_per_day  \\\n",
       "32   Others         0%-60%              3-4 hours   \n",
       "81    BS-CS         0%-60%       Less than 1 hour   \n",
       "142   BS-IT         0%-60%       Less than 1 hour   \n",
       "167   BS-EE         0%-60%              5-6 hours   \n",
       "\n",
       "                 Extracurricular_Activities     Avg_sleep_time  \\\n",
       "32                                   Sports          7-9 hours   \n",
       "81                                   Sports  Less than 5 hours   \n",
       "142                                  Sports  More than 9 hours   \n",
       "167  Sports;Arts and Culture;Volunteer Work          5-7 hours   \n",
       "\n",
       "        Household_Size      Workout        Free_time_Activity  \\\n",
       "32   7 or more members  No, I don't        Watching TV/Movies   \n",
       "81         1-2 members  No, I don't                    noting   \n",
       "142        1-2 members  No, I don't  Socializing with Friends   \n",
       "167        3-4 members  No, I don't             Playing Games   \n",
       "\n",
       "    University_society_member     Parents_Highest_Qaulification        GPA  \\\n",
       "32                         No                   Master's Degree          4   \n",
       "81                         No      High School Diploma or Below  0.0 - 1.9   \n",
       "142                        No  Doctorate or Professional Degree  0.0 - 1.9   \n",
       "167                       Yes                   Master's Degree  3.0 - 3.9   \n",
       "\n",
       "     Avg_Attendance_enc  \n",
       "32                    0  \n",
       "81                    0  \n",
       "142                   0  \n",
       "167                   0  "
      ]
     },
     "execution_count": 127,
     "metadata": {},
     "output_type": "execute_result"
    }
   ],
   "source": [
    "student_table.loc[student_table['Avg_Attendance_enc']==0]"
   ]
  }
 ],
 "metadata": {
  "kernelspec": {
   "display_name": "Python 3",
   "language": "python",
   "name": "python3"
  },
  "language_info": {
   "codemirror_mode": {
    "name": "ipython",
    "version": 3
   },
   "file_extension": ".py",
   "mimetype": "text/x-python",
   "name": "python",
   "nbconvert_exporter": "python",
   "pygments_lexer": "ipython3",
   "version": "3.11.5"
  }
 },
 "nbformat": 4,
 "nbformat_minor": 2
}
